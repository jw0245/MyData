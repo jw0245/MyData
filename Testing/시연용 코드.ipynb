{
 "cells": [
  {
   "cell_type": "code",
   "execution_count": 1,
   "id": "2c084be8",
   "metadata": {},
   "outputs": [
    {
     "data": {
      "text/html": [
       "<div>\n",
       "<style scoped>\n",
       "    .dataframe tbody tr th:only-of-type {\n",
       "        vertical-align: middle;\n",
       "    }\n",
       "\n",
       "    .dataframe tbody tr th {\n",
       "        vertical-align: top;\n",
       "    }\n",
       "\n",
       "    .dataframe thead th {\n",
       "        text-align: right;\n",
       "    }\n",
       "</style>\n",
       "<table border=\"1\" class=\"dataframe\">\n",
       "  <thead>\n",
       "    <tr style=\"text-align: right;\">\n",
       "      <th></th>\n",
       "      <th>name</th>\n",
       "      <th>age</th>\n",
       "      <th>email</th>\n",
       "      <th>phone</th>\n",
       "      <th>address</th>\n",
       "      <th>job</th>\n",
       "      <th>country</th>\n",
       "    </tr>\n",
       "  </thead>\n",
       "  <tbody>\n",
       "    <tr>\n",
       "      <th>0</th>\n",
       "      <td>이XX</td>\n",
       "      <td>27</td>\n",
       "      <td>XXXXX@XXXXl.com</td>\n",
       "      <td>XXX-XXXX-XXXX</td>\n",
       "      <td>XX시 XX구 xX로 XX길 XX</td>\n",
       "      <td>매니저</td>\n",
       "      <td>한국</td>\n",
       "    </tr>\n",
       "  </tbody>\n",
       "</table>\n",
       "</div>"
      ],
      "text/plain": [
       "  name  age            email          phone             address  job country\n",
       "0  이XX   27  XXXXX@XXXXl.com  XXX-XXXX-XXXX  XX시 XX구 xX로 XX길 XX  매니저      한국"
      ]
     },
     "execution_count": 1,
     "metadata": {},
     "output_type": "execute_result"
    }
   ],
   "source": [
    "import pandas as pd\n",
    "from faker import Faker\n",
    "\n",
    "# 기존 데이터라고 가정\n",
    "data = [['이XX',27,'XXXXX@XXXXl.com','XXX-XXXX-XXXX','XX시 XX구 xX로 XX길 XX',\n",
    "        '매니저','한국']]\n",
    "\n",
    "df = pd.DataFrame(data, columns=['name','age','email','phone','address','job','country'], index=[i for i in range(len(data))])\n",
    "df"
   ]
  },
  {
   "cell_type": "code",
   "execution_count": 2,
   "id": "895aa03d",
   "metadata": {},
   "outputs": [
    {
     "data": {
      "text/html": [
       "<div>\n",
       "<style scoped>\n",
       "    .dataframe tbody tr th:only-of-type {\n",
       "        vertical-align: middle;\n",
       "    }\n",
       "\n",
       "    .dataframe tbody tr th {\n",
       "        vertical-align: top;\n",
       "    }\n",
       "\n",
       "    .dataframe thead th {\n",
       "        text-align: right;\n",
       "    }\n",
       "</style>\n",
       "<table border=\"1\" class=\"dataframe\">\n",
       "  <thead>\n",
       "    <tr style=\"text-align: right;\">\n",
       "      <th></th>\n",
       "      <th>name</th>\n",
       "      <th>age</th>\n",
       "      <th>email</th>\n",
       "      <th>phone</th>\n",
       "      <th>address</th>\n",
       "      <th>job</th>\n",
       "      <th>country</th>\n",
       "    </tr>\n",
       "  </thead>\n",
       "  <tbody>\n",
       "    <tr>\n",
       "      <th>0</th>\n",
       "      <td>권옥순</td>\n",
       "      <td>72</td>\n",
       "      <td>jaeho98@daum.net</td>\n",
       "      <td>062-336-5591</td>\n",
       "      <td>서울특별시 구로구 테헤란04길</td>\n",
       "      <td>시각 디자이너</td>\n",
       "      <td>바레인</td>\n",
       "    </tr>\n",
       "  </tbody>\n",
       "</table>\n",
       "</div>"
      ],
      "text/plain": [
       "  name  age             email         phone           address      job country\n",
       "0  권옥순   72  jaeho98@daum.net  062-336-5591  서울특별시 구로구 테헤란04길  시각 디자이너     바레인"
      ]
     },
     "execution_count": 2,
     "metadata": {},
     "output_type": "execute_result"
    }
   ],
   "source": [
    "#faker 한국용으로 사용\n",
    "fake = Faker('ko-KR')\n",
    "\n",
    "data[0][0] = fake.name()\n",
    "data[0][1] = fake.pyint(min_value=19, max_value=100)\n",
    "data[0][2] = fake.email()\n",
    "data[0][3] = fake.phone_number()\n",
    "data[0][4] = fake.address()\n",
    "data[0][5] = fake.job()\n",
    "data[0][6] = fake.country()\n",
    "\n",
    "df = pd.DataFrame(data, columns=['name','age','email','phone','address','job','country'], index=[i for i in range(len(data))])\n",
    "df"
   ]
  }
 ],
 "metadata": {
  "kernelspec": {
   "display_name": "Python 3 (ipykernel)",
   "language": "python",
   "name": "python3"
  },
  "language_info": {
   "codemirror_mode": {
    "name": "ipython",
    "version": 3
   },
   "file_extension": ".py",
   "mimetype": "text/x-python",
   "name": "python",
   "nbconvert_exporter": "python",
   "pygments_lexer": "ipython3",
   "version": "3.9.7"
  }
 },
 "nbformat": 4,
 "nbformat_minor": 5
}

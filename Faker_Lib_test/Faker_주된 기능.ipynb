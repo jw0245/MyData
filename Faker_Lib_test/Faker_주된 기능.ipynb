{
 "cells": [
  {
   "cell_type": "code",
   "execution_count": 4,
   "id": "6d538470",
   "metadata": {},
   "outputs": [
    {
     "name": "stdout",
     "output_type": "stream",
     "text": [
      "윤명숙\n",
      "대구광역시 성동구 서초대97로 (아름차송면)\n"
     ]
    }
   ],
   "source": [
    "from faker import Faker\n",
    "fake = Faker('ko-KR')\n",
    "print(fake.name())\n",
    "print(fake.address())"
   ]
  },
  {
   "cell_type": "code",
   "execution_count": 3,
   "id": "06d6eae3",
   "metadata": {},
   "outputs": [
    {
     "name": "stdout",
     "output_type": "stream",
     "text": [
      "seongho98@hanmail.net\n",
      "룩셈부르크\n",
      "김민준\n",
      "Atque architecto magni iure accusantium sint. Debitis illo nisi est dolorum.\n",
      "Eligendi consectetur dolorum distinctio sit eaque quisquam. Officia suscipit laborum autem est.\n",
      "44765\n",
      "<bound method Provider.company of <faker.providers.company.ko_KR.Provider object at 0x0000020D189A9730>>\n",
      "감독 및 기술감독\n",
      "yeongmi73\n",
      "39\n",
      "https://ii.kr/\n"
     ]
    }
   ],
   "source": [
    "from faker import Faker\n",
    "fake = Faker('ko-kr')\n",
    "### facker 주된 기능\n",
    "### 이메일 \n",
    "print (fake.email())\n",
    "### 국가\n",
    "print(fake.country())\n",
    "### 이름\n",
    "print(fake.name())\n",
    "### 렌덤 문구 데이터\n",
    "print(fake.text())\n",
    "### 우편번호\n",
    "print(fake.postcode())\n",
    "### 회사명\n",
    "print(fake.company)\n",
    "### 직업명\n",
    "print(fake.job())\n",
    "### 사용자명\n",
    "print(fake.user_name())\n",
    "### 0~100 사이의 임의의 숫자\n",
    "print(fake.pyint(min_value=0, max_value=100))\n",
    "### url\n",
    "print(fake.url())"
   ]
  }
 ],
 "metadata": {
  "kernelspec": {
   "display_name": "Python 3 (ipykernel)",
   "language": "python",
   "name": "python3"
  },
  "language_info": {
   "codemirror_mode": {
    "name": "ipython",
    "version": 3
   },
   "file_extension": ".py",
   "mimetype": "text/x-python",
   "name": "python",
   "nbconvert_exporter": "python",
   "pygments_lexer": "ipython3",
   "version": "3.9.7"
  }
 },
 "nbformat": 4,
 "nbformat_minor": 5
}
